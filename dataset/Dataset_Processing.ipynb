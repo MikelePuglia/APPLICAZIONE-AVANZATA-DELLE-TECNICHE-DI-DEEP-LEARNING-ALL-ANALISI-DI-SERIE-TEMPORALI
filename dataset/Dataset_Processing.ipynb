{
 "cells": [
  {
   "cell_type": "markdown",
   "id": "6ef4ac49",
   "metadata": {},
   "source": [
    "# Dataset Processing\n",
    "---\n",
    "In questo notebook vengono elaborati e selezionati i dati per il progetto.\n"
   ]
  },
  {
   "cell_type": "markdown",
   "id": "9b177029",
   "metadata": {},
   "source": [
    "## Import Libraries and Set Style\n"
   ]
  },
  {
   "cell_type": "code",
   "execution_count": 1,
   "id": "d99e0cdc03ad2a93",
   "metadata": {
    "ExecuteTime": {
     "end_time": "2024-07-23T19:57:51.312532Z",
     "start_time": "2024-07-23T19:57:50.782250Z"
    }
   },
   "outputs": [],
   "source": [
    "import pandas as pd\n",
    "import numpy as np"
   ]
  },
  {
   "cell_type": "markdown",
   "id": "dac0a0b0",
   "metadata": {},
   "source": [
    "## Load and Manipulation Data\n"
   ]
  },
  {
   "cell_type": "code",
   "execution_count": 2,
   "id": "32752d238659941b",
   "metadata": {
    "ExecuteTime": {
     "end_time": "2024-07-23T19:57:57.773944Z",
     "start_time": "2024-07-23T19:57:55.899729Z"
    }
   },
   "outputs": [],
   "source": [
    "path = \"/media/neurone-pc6/Volume/Michele/Prog_GAF_Michele/pythonProject/data/Vasiceksimulation_23_07.csv\"\n",
    "df = pd.read_csv(path)\n",
    "df_data = df.iloc[:5000, :-1] # load the first 5000 rows\n",
    "df_data"
   ]
  },
  {
   "cell_type": "code",
   "execution_count": 5,
   "id": "29eac8d0be62631d",
   "metadata": {
    "ExecuteTime": {
     "end_time": "2024-07-23T19:58:05.087326Z",
     "start_time": "2024-07-23T19:58:05.037075Z"
    }
   },
   "outputs": [
    {
     "name": "stdout",
     "output_type": "stream",
     "text": [
      "Numero di righe dopo la suddivisione: 160000\n"
     ]
    }
   ],
   "source": [
    "# Function to split a row into chunks\n",
    "def split_into_chunks(row: list, chunk_size: int = 32) -> list:\n",
    "    \"\"\"\n",
    "    Split a single row into smaller, evenly sized chunks.\n",
    "\n",
    "    Parameters:\n",
    "    - row (list): A single row (list of elements) to be split into smaller chunks.\n",
    "    - chunk_size (int, optional): The desired size of each chunk. Default is 32.\n",
    "\n",
    "    Returns:\n",
    "    - list: A list containing sub-lists, where each sub-list represents a chunk \n",
    "            of the original row with a maximum length of chunk_size.\n",
    "            \n",
    "    \"\"\"\n",
    "    return [row[i:i + chunk_size] for i in range(0, len(row), chunk_size)]\n",
    "\n",
    "# Convert dataframe to numpy matrix\n",
    "data_matrix = df_data.to_numpy()\n",
    "\n",
    "# Split each row of the data matrix into chunks\n",
    "split_rows = [split_into_chunks(row) for row in data_matrix]\n",
    "\n",
    "# Flatten the list of lists into a single list of rows\n",
    "rows = [chunk for sublist in split_rows for chunk in sublist]\n",
    "\n",
    "# Print the number of rows after splitting\n",
    "print(\"Number of rows after splitting:\", len(rows))\n"
   ]
  },
  {
   "cell_type": "markdown",
   "id": "685e7ee3",
   "metadata": {},
   "source": [
    "## Labels"
   ]
  },
  {
   "cell_type": "code",
   "execution_count": 6,
   "id": "ddb3ce1438c40a10",
   "metadata": {
    "ExecuteTime": {
     "end_time": "2024-07-23T19:58:10.777243Z",
     "start_time": "2024-07-23T19:58:09.346666Z"
    }
   },
   "outputs": [
    {
     "name": "stdout",
     "output_type": "stream",
     "text": [
      "          0         1         2         3         4         5         6  \\\n",
      "0  0.047060  0.047069  0.047009  0.046852  0.046831  0.046630  0.046554   \n",
      "1  0.046182  0.046456  0.046494  0.046501  0.046688  0.046745  0.046386   \n",
      "2  0.046236  0.046164  0.046007  0.045581  0.045556  0.045429  0.045752   \n",
      "3  0.044570  0.044530  0.044174  0.044174  0.044151  0.044099  0.044456   \n",
      "4  0.042343  0.042331  0.042530  0.042311  0.042063  0.042377  0.042463   \n",
      "\n",
      "          7         8         9  ...        23        24        25        26  \\\n",
      "0  0.046445  0.046598  0.046537  ...  0.045962  0.045824  0.045785  0.045910   \n",
      "1  0.046201  0.046405  0.046059  ...  0.046389  0.046449  0.046491  0.046259   \n",
      "2  0.045778  0.046061  0.046010  ...  0.044968  0.045023  0.044988  0.044796   \n",
      "3  0.044281  0.044078  0.044001  ...  0.043598  0.043549  0.043174  0.043195   \n",
      "4  0.042418  0.042493  0.042283  ...  0.042240  0.042374  0.042095  0.042125   \n",
      "\n",
      "         27        28        29        30        31  Label  \n",
      "0  0.045861  0.045970  0.045934  0.046006  0.046235      0  \n",
      "1  0.046276  0.046027  0.046070  0.046045  0.046336      1  \n",
      "2  0.044650  0.044770  0.044670  0.044568  0.044570      0  \n",
      "3  0.043253  0.042932  0.042981  0.042697  0.042568      0  \n",
      "4  0.041926  0.041759  0.041833  0.041991  0.041862      0  \n",
      "\n",
      "[5 rows x 33 columns]\n",
      "Dimensioni del DataFrame finale: (160000, 33)\n"
     ]
    }
   ],
   "source": [
    "# Function to calculate the label for each 32-value chunk\n",
    "def calculate_label(chunk: list) -> int:\n",
    "    \"\"\"\n",
    "    Calculate the label for a 32-value chunk.\n",
    "\n",
    "    Parameters:\n",
    "    - chunk (list): A list of 32 numerical values representing a single chunk.\n",
    "\n",
    "    Returns:\n",
    "    - int: Returns 1 if the last value in the chunk is greater than the first value; otherwise, returns 0.\n",
    "\n",
    "    \"\"\"\n",
    "    return 1 if chunk[-1] > chunk[0] else 0\n",
    "\n",
    "# Calculate labels for each chunk of 32 values\n",
    "# Assumes that the chunks follow the same structure as original rows\n",
    "labels = np.array([calculate_label(row) for row in rows])\n",
    "\n",
    "# Create a DataFrame with the chunks of 32 values and the calculated labels\n",
    "df_split = pd.DataFrame(rows)\n",
    "df_split['Label'] = labels\n",
    "\n",
    "# Display the first few rows of the resulting DataFrame\n",
    "print(df_split.head())\n",
    "print(\"Dimensions of the final DataFrame:\", df_split.shape)"
   ]
  },
  {
   "cell_type": "markdown",
   "id": "94b6bcee",
   "metadata": {},
   "source": [
    "## Save Data"
   ]
  },
  {
   "cell_type": "code",
   "execution_count": 8,
   "id": "4868dad11d36a88d",
   "metadata": {
    "ExecuteTime": {
     "end_time": "2024-07-23T19:59:00.184752Z",
     "start_time": "2024-07-23T19:58:54.414346Z"
    }
   },
   "outputs": [
    {
     "name": "stdout",
     "output_type": "stream",
     "text": [
      "Elaborazione completata e file salvato in: /media/neurone-pc6/Volume/Michele/Prog_GAF_Michele/pythonProject/data/Vasiceksimulation_windows_23_07.csv\n"
     ]
    }
   ],
   "source": [
    "#Save path\n",
    "output_path = \"/media/neurone-pc6/Volume/Michele/Prog_GAF_Michele/pythonProject/data/Vasiceksimulation_windows_23_07.csv\"\n",
    "\n",
    "# CSV file\n",
    "df_split.to_csv(output_path, index=False)\n",
    "\n",
    "print(\"Elaborazione completata e file salvato in:\", output_path)"
   ]
  }
 ],
 "metadata": {
  "kernelspec": {
   "display_name": "Python 3",
   "language": "python",
   "name": "python3"
  },
  "language_info": {
   "codemirror_mode": {
    "name": "ipython",
    "version": 2
   },
   "file_extension": ".py",
   "mimetype": "text/x-python",
   "name": "python",
   "nbconvert_exporter": "python",
   "pygments_lexer": "ipython2",
   "version": "2.7.6"
  }
 },
 "nbformat": 4,
 "nbformat_minor": 5
}
