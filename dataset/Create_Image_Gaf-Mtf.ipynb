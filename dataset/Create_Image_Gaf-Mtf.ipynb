{
 "cells": [
  {
   "cell_type": "markdown",
   "id": "d82e4087",
   "metadata": {},
   "source": [
    "# Create Image - GAF e MTF\n",
    "---\n",
    "Questo notebook trasforma serie temporali in immagini tramite tecniche GAF e MTF.\n"
   ]
  },
  {
   "cell_type": "markdown",
   "id": "0aa192ce",
   "metadata": {},
   "source": [
    "## Import libraries"
   ]
  },
  {
   "cell_type": "code",
   "execution_count": 3,
   "id": "cb390cafa59d1a36",
   "metadata": {
    "ExecuteTime": {
     "end_time": "2024-07-23T19:59:45.628023Z",
     "start_time": "2024-07-23T19:59:40.511222Z"
    }
   },
   "outputs": [],
   "source": [
    "import pandas as pd\n",
    "import numpy as np\n",
    "from pyts.image import GramianAngularField, MarkovTransitionField\n",
    "import matplotlib.pyplot as plt\n",
    "import os"
   ]
  },
  {
   "cell_type": "markdown",
   "id": "df16025c",
   "metadata": {},
   "source": [
    "## Load Data"
   ]
  },
  {
   "cell_type": "code",
   "execution_count": 4,
   "id": "initial_id",
   "metadata": {
    "ExecuteTime": {
     "end_time": "2024-07-23T19:59:46.420736Z",
     "start_time": "2024-07-23T19:59:45.629240Z"
    },
    "collapsed": true
   },
   "outputs": [],
   "source": [
    "# path\n",
    "path = \"/media/neurone-pc6/Volume/Michele/Prog_GAF_Michele/pythonProject/data/Vasiceksimulation_windows_23_07.csv\"csv\"\n",
    "\n",
    "# load\n",
    "df = pd.read_csv(path)"
   ]
  },
  {
   "cell_type": "markdown",
   "id": "49ed979d",
   "metadata": {},
   "source": [
    "## Transform Time Series into Images"
   ]
  },
  {
   "cell_type": "code",
   "execution_count": 3,
   "id": "27f576c0912190cb",
   "metadata": {
    "ExecuteTime": {
     "end_time": "2024-07-23T19:59:47.643890Z",
     "start_time": "2024-07-23T19:59:47.637905Z"
    }
   },
   "outputs": [],
   "source": [
    "# Functions \n",
    "def compute_gaf(data: np.ndarray, method: str) -> np.ndarray:\n",
    "    \"\"\"\n",
    "    Compute the Gramian Angular Field (GAF) of the input data using the specified method.\n",
    "\n",
    "    Parameters:\n",
    "    - data (np.ndarray): A 2D array of numerical values where each row represents a time series.\n",
    "    - method (str): The method to use for GAF calculation; options are typically 'summation' or 'difference'.\n",
    "\n",
    "    Returns:\n",
    "    - np.ndarray: A transformed array representing the GAF, with the same shape as the input data.\n",
    "    \"\"\"\n",
    "    gaf = GramianAngularField(image_size=data.shape[1], method=method)\n",
    "    transformed = gaf.transform(data)\n",
    "    return transformed.squeeze()\n",
    "\n",
    "def compute_markov(data: np.ndarray) -> np.ndarray:\n",
    "    \"\"\"\n",
    "    Compute the Markov Transition Field (MTF) for the input data.\n",
    "\n",
    "    Parameters:\n",
    "    - data (np.ndarray): A 2D array of numerical values where each row represents a time series.\n",
    "\n",
    "    Returns:\n",
    "    - np.ndarray: A transformed array representing the MTF, with the same shape as the input data.\n",
    "    \"\"\"\n",
    "    mtf = MarkovTransitionField(image_size=data.shape[1])\n",
    "    transformed = mtf.fit_transform(data)\n",
    "    return transformed.squeeze()\n",
    "\n",
    "def GAF_MARKOV_RGB(data: pd.DataFrame) -> np.ndarray:\n",
    "    \"\"\"\n",
    "    Transform input data into an RGB image representing the Gramian Angular Field (GAF),\n",
    "    using the Markov Transition Field (MTF) as the third channel.\n",
    "\n",
    "    Parameters:\n",
    "    - data (pd.DataFrame): A DataFrame where each row represents a time series.\n",
    "\n",
    "    Returns:\n",
    "    - np.ndarray: An RGB image where the three channels correspond to the GASF, GADF, and MTF respectively.\n",
    "    \"\"\"\n",
    "    # Create GramianAngularField instances for GASF and GADF calculation\n",
    "    gasf = GramianAngularField(image_size=data.shape[1], method='summation')\n",
    "    gadf = GramianAngularField(image_size=data.shape[1], method='difference')\n",
    "    \n",
    "    # Transform the data using GASF and GADF\n",
    "    gasf_transformed = gasf.transform(data)\n",
    "    gadf_transformed = gadf.transform(data)\n",
    "\n",
    "    # Compute the Markov Transition Field\n",
    "    mtf_transformed = compute_markov(data)\n",
    "    \n",
    "    # Combine GASF, GADF, and MTF results into an RGB image\n",
    "    gaf_transformed = np.stack((gasf_transformed.squeeze(), gadf_transformed.squeeze(), mtf_transformed), axis=-1)\n",
    "    \n",
    "    # Normalize the values to the [0, 255] range and convert to integers\n",
    "    gaf_transformed = (gaf_transformed / np.max(gaf_transformed) * 255).astype('uint8')\n",
    "    \n",
    "    return gaf_transformed\n",
    "\n",
    "def save_image(image: np.ndarray, path: str):\n",
    "    \"\"\"\n",
    "    Save the image to a file in .npy format.\n",
    "\n",
    "    Parameters:\n",
    "    - image (np.ndarray): The image data to be saved.\n",
    "    - path (str): The file path where the image will be saved.\n",
    "    \"\"\"\n",
    "    np.save(path, image)\n"
   ]
  },
  {
   "cell_type": "code",
   "execution_count": 5,
   "id": "835a8422edcf4895",
   "metadata": {
    "ExecuteTime": {
     "end_time": "2024-07-23T20:00:15.166194Z",
     "start_time": "2024-07-23T20:00:15.082693Z"
    }
   },
   "outputs": [],
   "source": [
    "# Save path\n",
    "base_path = \"/media/neurone-pc6/Volume/Michele/Prog_GAF_Michele/pythonProject/data\"\n",
    "\n",
    "# folders\n",
    "methods = ['GADF', 'GASF', 'MARKOV', 'RGB']\n",
    "labels = ['Label_0', 'Label_1']\n",
    "\n",
    "for method in methods:\n",
    "    for label in labels:\n",
    "        directory = os.path.join(base_path, method, label)\n",
    "        if not os.path.exists(directory):\n",
    "            os.makedirs(directory)"
   ]
  },
  {
   "cell_type": "code",
   "execution_count": 6,
   "id": "e1194a73ae7e627a",
   "metadata": {
    "ExecuteTime": {
     "end_time": "2024-07-23T20:17:15.445051Z",
     "start_time": "2024-07-23T20:00:25.708758Z"
    }
   },
   "outputs": [],
   "source": [
    "# Iterate over the rows of the DataFrame\n",
    "for index, row in df.iterrows():\n",
    "    series = row[:-1].to_numpy().reshape(1, -1)  # Extract the series, excluding the label column\n",
    "    label = row[-1]  # Extract the label of the series\n",
    "\n",
    "    # Convert the label to a string\n",
    "    label_str = f'Label_{int(label)}'\n",
    "\n",
    "    # Calculate the images for each method\n",
    "    gaf_image = compute_gaf(series, 'difference')  # GADF\n",
    "    gasf_image = compute_gaf(series, 'summation')  # GASF\n",
    "    markov_image = compute_markov(series)  # MARKOV\n",
    "    rgb_image = GAF_MARKOV_RGB(series)  # RGB\n",
    "\n",
    "    # Save the images\n",
    "    save_image(gaf_image, os.path.join(base_path, 'GADF', label_str, f'{index}.npy'))\n",
    "    save_image(gasf_image, os.path.join(base_path, 'GASF', label_str, f'{index}.npy'))\n",
    "    save_image(markov_image, os.path.join(base_path, 'MARKOV', label_str, f'{index}.npy'))\n",
    "    save_image(rgb_image, os.path.join(base_path, 'RGB', label_str, f'{index}.npy'))"
   ]
  }
 ],
 "metadata": {
  "kernelspec": {
   "display_name": "Python 3",
   "language": "python",
   "name": "python3"
  },
  "language_info": {
   "codemirror_mode": {
    "name": "ipython",
    "version": 3
   },
   "file_extension": ".py",
   "mimetype": "text/x-python",
   "name": "python",
   "nbconvert_exporter": "python",
   "pygments_lexer": "ipython3",
   "version": "3.12.0"
  }
 },
 "nbformat": 4,
 "nbformat_minor": 5
}
